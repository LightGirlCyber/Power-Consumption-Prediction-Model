{
 "cells": [
  {
   "cell_type": "code",
   "execution_count": 36,
   "id": "2ba991ce",
   "metadata": {},
   "outputs": [],
   "source": [
    "import pandas as pd\n",
    "import numpy as np\n",
    "import warnings\n",
    "from sklearn.preprocessing import StandardScaler, PowerTransformer\n",
    "from sklearn.pipeline import Pipeline\n",
    "from sklearn.preprocessing import PolynomialFeatures\n",
    "from sklearn.linear_model import Ridge\n",
    "\n",
    "warnings.filterwarnings('ignore')"
   ]
  },
  {
   "cell_type": "code",
   "execution_count": 37,
   "id": "a48343a2",
   "metadata": {},
   "outputs": [],
   "source": [
    "# Load Data\n",
    "train = pd.read_csv('train.csv')\n",
    "test = pd.read_csv('test.csv')"
   ]
  },
  {
   "cell_type": "markdown",
   "id": "39ee3c2a",
   "metadata": {},
   "source": [
    "Data cleaning and feature engineering"
   ]
  },
  {
   "cell_type": "code",
   "execution_count": 38,
   "id": "32e86764",
   "metadata": {},
   "outputs": [
    {
     "name": "stdout",
     "output_type": "stream",
     "text": [
      "Initial Train Shape: (27999, 12)\n",
      "Initial Test Shape: (7041, 11)\n"
     ]
    }
   ],
   "source": [
    "print(f\"Initial Train Shape: {train.shape}\")\n",
    "print(f\"Initial Test Shape: {test.shape}\")"
   ]
  },
  {
   "cell_type": "code",
   "execution_count": 39,
   "id": "5a1461db",
   "metadata": {},
   "outputs": [
    {
     "name": "stdout",
     "output_type": "stream",
     "text": [
      "\n",
      "Extracting date features...\n",
      "Date features extracted.\n"
     ]
    }
   ],
   "source": [
    "# Backup IDs\n",
    "test_ids = test['Id'].copy()\n",
    "\n",
    "# Extract Date Features\n",
    "print(\"\\nExtracting date features...\")\n",
    "\n",
    "for df in [train, test]:\n",
    "    df['date'] = pd.to_datetime(df['date'], format='mixed', dayfirst=True)\n",
    "    df['hour'] = df['date'].dt.hour\n",
    "    df['day'] = df['date'].dt.day\n",
    "    df['month'] = df['date'].dt.month\n",
    "    df['dayofweek'] = df['date'].dt.dayofweek\n",
    "    df['quarter'] = df['date'].dt.quarter\n",
    "    df['is_weekend'] = (df['date'].dt.dayofweek >= 5).astype(int)\n",
    "    df['is_night'] = ((df['hour'] >= 22) | (df['hour'] <= 6)).astype(int)\n",
    "    df['is_peak_hour'] = ((df['hour'] >= 17) & (df['hour'] <= 21)).astype(int)\n",
    "    \n",
    "print(\"Date features extracted.\")"
   ]
  },
  {
   "cell_type": "code",
   "execution_count": 40,
   "id": "d9ebda50",
   "metadata": {},
   "outputs": [],
   "source": [
    "# Drop ID and date columns\n",
    "train.drop(['Id', 'date'], axis=1, inplace=True)\n",
    "test.drop(['Id', 'date'], axis=1, inplace=True)"
   ]
  },
  {
   "cell_type": "code",
   "execution_count": 41,
   "id": "5274dafa",
   "metadata": {},
   "outputs": [
    {
     "name": "stdout",
     "output_type": "stream",
     "text": [
      "\n",
      "Handling Missing Values...\n",
      "Missing values handled.\n"
     ]
    }
   ],
   "source": [
    "# Handle Missing Values\n",
    "print(\"\\nHandling Missing Values...\")\n",
    "\n",
    "num_cols = train.select_dtypes(include=[np.number]).columns.tolist()\n",
    "if 'Usage_kWh' in num_cols:\n",
    "    num_cols.remove('Usage_kWh')\n",
    "\n",
    "for col in num_cols:\n",
    "    median_val = train[col].median()\n",
    "    train[col].fillna(median_val, inplace=True)\n",
    "    if col in test.columns:\n",
    "        test[col].fillna(median_val, inplace=True)\n",
    "\n",
    "cat_cols = train.select_dtypes(include=['object']).columns.tolist()\n",
    "for col in cat_cols:\n",
    "    mode_val = train[col].mode()[0]\n",
    "    train[col].fillna(mode_val, inplace=True)\n",
    "    if col in test.columns:\n",
    "        test[col].fillna(mode_val, inplace=True)\n",
    "\n",
    "print(\"Missing values handled.\")\n",
    "\n",
    "# Skip Outlier Removal- preserving signal for better R²"
   ]
  },
  {
   "cell_type": "code",
   "execution_count": 42,
   "id": "3cb98c4d",
   "metadata": {},
   "outputs": [
    {
     "name": "stdout",
     "output_type": "stream",
     "text": [
      "No duplicate rows found.\n"
     ]
    }
   ],
   "source": [
    "# Remove Duplicates\n",
    "duplicates = train.duplicated().sum()\n",
    "if duplicates > 0:\n",
    "    train.drop_duplicates(inplace=True)\n",
    "    print(f\"Removed {duplicates} duplicate rows.\")\n",
    "else:\n",
    "    print(\"No duplicate rows found.\")"
   ]
  },
  {
   "cell_type": "code",
   "execution_count": 43,
   "id": "1aac9a2b",
   "metadata": {},
   "outputs": [
    {
     "name": "stdout",
     "output_type": "stream",
     "text": [
      "\n",
      "Creating engineered and domain-driven features...\n",
      "Engineered features created.\n"
     ]
    }
   ],
   "source": [
    "# Feature Engineering\n",
    "print(\"\\nCreating engineered and domain-driven features...\")\n",
    "\n",
    "for df_name, df in [('train', train), ('test', test)]:\n",
    "    # Efficiency ratios\n",
    "    df['CO2_per_NSM'] = df['CO2(tCO2)'] / (df['NSM'] + 1)\n",
    "    df['Lagging_per_NSM'] = df['Lagging_Current_Reactive.Power_kVarh'] / (df['NSM'] + 1)\n",
    "    df['Leading_per_NSM'] = df['Leading_Current_Reactive_Power_kVarh'] / (df['NSM'] + 1)\n",
    "\n",
    "    # Power factor combinations\n",
    "    df['Total_PF'] = df['Lagging_Current_Power_Factor'] + df['Leading_Current_Power_Factor']\n",
    "    df['PF_Ratio'] = df['Lagging_Current_Power_Factor'] / (df['Leading_Current_Power_Factor'] + 1)\n",
    "    df['Total_Reactive'] = (\n",
    "        df['Lagging_Current_Reactive.Power_kVarh'] +\n",
    "        df['Leading_Current_Reactive_Power_kVarh']\n",
    "    )\n",
    "\n",
    "    # Log and squared transforms\n",
    "    df['NSM_Log'] = np.log1p(df['NSM'])\n",
    "    df['CO2_Log'] = np.log1p(df['CO2(tCO2)'])\n",
    "    df['NSM_Squared'] = (df['NSM'] / 1000) ** 2\n",
    "    df['CO2_Squared'] = df['CO2(tCO2)'] ** 2\n",
    "\n",
    "    # Domain-driven features\n",
    "    df['Power_Factor_Efficiency'] = (\n",
    "        df['Lagging_Current_Power_Factor'] + df['Leading_Current_Power_Factor']\n",
    "    ) / 2\n",
    "    df['Inductive_Load_Index'] = (\n",
    "        df['Lagging_Current_Reactive.Power_kVarh'] -\n",
    "        df['Leading_Current_Reactive_Power_kVarh']\n",
    "    )\n",
    "    df['Capacitive_Correction_Potential'] = (\n",
    "        df['Leading_Current_Reactive_Power_kVarh'] /\n",
    "        (df['Lagging_Current_Reactive.Power_kVarh'] + 1)\n",
    "    )\n",
    "    df['PF_Variation'] = abs(\n",
    "        df['Lagging_Current_Power_Factor'] - df['Leading_Current_Power_Factor']\n",
    "    )\n",
    "\n",
    "    # Cyclical encodings for time\n",
    "    df['hour_sin'] = np.sin(2 * np.pi * df['hour'] / 24)\n",
    "    df['hour_cos'] = np.cos(2 * np.pi * df['hour'] / 24)\n",
    "    df['month_sin'] = np.sin(2 * np.pi * df['month'] / 12)\n",
    "    df['month_cos'] = np.cos(2 * np.pi * df['month'] / 12)\n",
    "\n",
    "    # Power factor-inspired physical features\n",
    "    df['Apparent_Power_Est'] = np.sqrt(\n",
    "        (df['Lagging_Current_Reactive.Power_kVarh'] + df['Leading_Current_Reactive_Power_kVarh'])**2 +\n",
    "        (df['CO2(tCO2)'])**2\n",
    "    )\n",
    "\n",
    "    df['Reactive_to_Apparent'] = (\n",
    "        (df['Lagging_Current_Reactive.Power_kVarh'] + df['Leading_Current_Reactive_Power_kVarh']) /\n",
    "        (df['Apparent_Power_Est'] + 1)\n",
    "    )\n",
    "\n",
    "    df['PF_Theoretical'] = 1 / np.sqrt(1 + df['Reactive_to_Apparent']**2)\n",
    "\n",
    "    df['Reactive_Imbalance'] = abs(\n",
    "        df['Lagging_Current_Reactive.Power_kVarh'] - df['Leading_Current_Reactive_Power_kVarh']\n",
    "    )\n",
    "\n",
    "    df['Mean_PF'] = (\n",
    "        df['Lagging_Current_Power_Factor'] + df['Leading_Current_Power_Factor']\n",
    "    ) / 2\n",
    "\n",
    "print(\"Engineered features created.\")"
   ]
  },
  {
   "cell_type": "code",
   "execution_count": 44,
   "id": "5955dc30",
   "metadata": {},
   "outputs": [
    {
     "name": "stdout",
     "output_type": "stream",
     "text": [
      "\n",
      "Encoding categorical columns...\n"
     ]
    }
   ],
   "source": [
    "# Encode Categorical Data\n",
    "print(\"\\nEncoding categorical columns...\")\n",
    "\n",
    "train = pd.get_dummies(train, columns=cat_cols, drop_first=True)\n",
    "test = pd.get_dummies(test, columns=cat_cols, drop_first=True)\n",
    "\n",
    "# Align columns\n",
    "missing_in_test = set(train.columns) - set(test.columns) - {'Usage_kWh'}\n",
    "for col in missing_in_test:\n",
    "    test[col] = 0\n",
    "test = test[[c for c in train.columns if c != 'Usage_kWh']]\n"
   ]
  },
  {
   "cell_type": "code",
   "execution_count": 45,
   "id": "70f8d4ef",
   "metadata": {},
   "outputs": [
    {
     "name": "stdout",
     "output_type": "stream",
     "text": [
      "Encoding and alignment complete.\n",
      "Final shapes: Train=(27999, 47), Test=(7041, 47)\n"
     ]
    }
   ],
   "source": [
    "# Reattach IDs\n",
    "test['Id'] = test_ids.values\n",
    "\n",
    "print(\"Encoding and alignment complete.\")\n",
    "print(f\"Final shapes: Train={train.shape}, Test={test.shape}\")"
   ]
  },
  {
   "cell_type": "code",
   "execution_count": 46,
   "id": "60789c15",
   "metadata": {},
   "outputs": [
    {
     "name": "stdout",
     "output_type": "stream",
     "text": [
      "\n",
      "Dropping redundant features...\n",
      "Dropped 8 redundant columns: ['Power_Factor_Efficiency', 'Mean_PF', 'Total_PF', 'PF_Variation', 'Apparent_Power_Est', 'Reactive_to_Apparent', 'NSM', 'CO2(tCO2)']\n",
      "Final optimized shapes: Train=(27999, 39), Test=(7041, 39)\n"
     ]
    }
   ],
   "source": [
    "# Drop redundant features\n",
    "print(\"\\nDropping redundant features...\")\n",
    "drop_cols = [\n",
    "    \"Power_Factor_Efficiency\",\n",
    "    \"Mean_PF\",\n",
    "    \"Total_PF\",\n",
    "    \"PF_Variation\",\n",
    "    \"Apparent_Power_Est\",\n",
    "    \"Reactive_to_Apparent\",\n",
    "    \"NSM\",\n",
    "    \"CO2(tCO2)\",\n",
    "]\n",
    "\n",
    "dropped_cols = [c for c in drop_cols if c in train.columns]\n",
    "\n",
    "train.drop(columns=dropped_cols, inplace=True)\n",
    "test.drop(columns=dropped_cols, inplace=True)\n",
    "\n",
    "print(f\"Dropped {len(dropped_cols)} redundant columns: {dropped_cols}\")\n",
    "print(f\"Final optimized shapes: Train={train.shape}, Test={test.shape}\")\n"
   ]
  },
  {
   "cell_type": "code",
   "execution_count": 47,
   "id": "ea802dbc",
   "metadata": {},
   "outputs": [
    {
     "name": "stdout",
     "output_type": "stream",
     "text": [
      "\n",
      "Data cleaning and feature engineering completed successfully.\n",
      "Saved files:\n",
      "  - train_cleaned_engineered_v6.csv\n",
      "  - test_cleaned_engineered_v6.csv (includes Id column)\n",
      "======================================================================\n"
     ]
    }
   ],
   "source": [
    "# Save cleaned and engineered data\n",
    "train.to_csv(\"train_cleaned_engineered_v6.csv\", index=False)\n",
    "test.to_csv(\"test_cleaned_engineered_v6.csv\", index=False)\n",
    "\n",
    "print(\"\\nData cleaning and feature engineering completed successfully.\")\n",
    "print(\"Saved files:\")\n",
    "print(\"  - train_cleaned_engineered_v6.csv\")\n",
    "print(\"  - test_cleaned_engineered_v6.csv (includes Id column)\")\n",
    "print(\"=\"*70)"
   ]
  },
  {
   "cell_type": "markdown",
   "id": "c45ccb96",
   "metadata": {},
   "source": [
    "Model training and prediction"
   ]
  },
  {
   "cell_type": "code",
   "execution_count": 48,
   "id": "56e2ba11",
   "metadata": {},
   "outputs": [
    {
     "name": "stdout",
     "output_type": "stream",
     "text": [
      "\n",
      "Starting model training...\n"
     ]
    }
   ],
   "source": [
    "# Model Training and Prediction\n",
    "print(\"\\nStarting model training...\")\n",
    "\n",
    "# Load cleaned data\n",
    "train = pd.read_csv(\"train_cleaned_engineered_v6.csv\")\n",
    "test = pd.read_csv(\"test_cleaned_engineered_v6.csv\")\n",
    "\n",
    "# Select features\n",
    "winning_features = [\n",
    "    'CO2_Log',\n",
    "    'Lagging_Current_Reactive.Power_kVarh',\n",
    "    'CO2_Squared',\n",
    "    'Total_Reactive',\n",
    "    'Inductive_Load_Index',\n",
    "    'Reactive_Imbalance',\n",
    "    'PF_Theoretical',\n",
    "    'is_night',\n",
    "    'Lagging_Current_Power_Factor',\n",
    "    'hour_cos',\n",
    "    'Leading_Current_Power_Factor',\n",
    "    'hour_sin'\n",
    "]\n",
    "\n",
    "X = train[winning_features]\n",
    "y = train[\"Usage_kWh\"]\n",
    "X_test = test[winning_features]\n",
    "test_ids = test[\"Id\"]\n",
    "\n",
    "# Box-Cox transformation\n",
    "if (y <= 0).any():\n",
    "    y_shift = abs(y.min()) + 1\n",
    "    y_temp = y + y_shift\n",
    "else:\n",
    "    y_shift = 0\n",
    "    y_temp = y\n",
    "\n",
    "pt = PowerTransformer(method='box-cox', standardize=False)\n",
    "y_transformed = pt.fit_transform(y_temp.values.reshape(-1, 1)).ravel()\n"
   ]
  },
  {
   "cell_type": "code",
   "execution_count": 49,
   "id": "24b21f6a",
   "metadata": {},
   "outputs": [],
   "source": [
    "# Pipeline with Ridge regression\n",
    "pipeline = Pipeline([\n",
    "    (\"scaler\", StandardScaler()),\n",
    "    (\"poly\", PolynomialFeatures(degree=5, include_bias=False)),\n",
    "    (\"ridge\", Ridge(alpha=0.006, max_iter=10000))\n",
    "])\n"
   ]
  },
  {
   "cell_type": "code",
   "execution_count": 50,
   "id": "52409ecb",
   "metadata": {},
   "outputs": [
    {
     "name": "stdout",
     "output_type": "stream",
     "text": [
      "Training Ridge model with alpha=0.006...\n"
     ]
    }
   ],
   "source": [
    "print(\"Training Ridge model with alpha=0.006...\")\n",
    "pipeline.fit(X, y_transformed)\n",
    "\n",
    "# Predict\n",
    "test_pred_transformed = pipeline.predict(X_test)\n",
    "test_pred = pt.inverse_transform(test_pred_transformed.reshape(-1, 1)).ravel()\n",
    "\n",
    "if y_shift > 0:\n",
    "    test_pred = test_pred - y_shift\n",
    "\n",
    "# Handle NaN values\n",
    "if np.isnan(test_pred).any():\n",
    "    median_pred = np.nanmedian(test_pred)\n",
    "    test_pred = np.where(np.isnan(test_pred), median_pred, test_pred)\n",
    "\n",
    "test_pred = np.clip(test_pred, 0, y.max() * 1.4)"
   ]
  },
  {
   "cell_type": "code",
   "execution_count": 51,
   "id": "526eced2",
   "metadata": {},
   "outputs": [
    {
     "name": "stdout",
     "output_type": "stream",
     "text": [
      "\n",
      "Submission saved: submission_alpha_004.csv\n",
      "Null values: 0\n",
      "Prediction range: [2.59, 155.71]\n"
     ]
    }
   ],
   "source": [
    "# Create submission\n",
    "submission = pd.DataFrame({\n",
    "    \"Id\": test_ids,\n",
    "    \"Usage_kWh\": test_pred\n",
    "})\n",
    "\n",
    "submission.to_csv(\"submission_alpha_004.csv\", index=False)\n",
    "print(f\"\\nSubmission saved: submission_alpha_004.csv\")\n",
    "print(f\"Null values: {submission.isnull().sum().sum()}\")\n",
    "print(f\"Prediction range: [{submission['Usage_kWh'].min():.2f}, {submission['Usage_kWh'].max():.2f}]\")"
   ]
  }
 ],
 "metadata": {
  "kernelspec": {
   "display_name": "Python 3",
   "language": "python",
   "name": "python3"
  },
  "language_info": {
   "codemirror_mode": {
    "name": "ipython",
    "version": 3
   },
   "file_extension": ".py",
   "mimetype": "text/x-python",
   "name": "python",
   "nbconvert_exporter": "python",
   "pygments_lexer": "ipython3",
   "version": "3.10.0"
  }
 },
 "nbformat": 4,
 "nbformat_minor": 5
}
